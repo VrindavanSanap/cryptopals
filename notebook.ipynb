{
 "cells": [
  {
   "cell_type": "code",
   "execution_count": 14,
   "metadata": {},
   "outputs": [],
   "source": [
    "hex_str = \"49276d206b696c6c696e6720796f757220627261696e206c696b65206120706f69736f6e6f7573206d757368726f6f6d\""
   ]
  },
  {
   "cell_type": "code",
   "execution_count": 17,
   "metadata": {},
   "outputs": [
    {
     "name": "stdout",
     "output_type": "stream",
     "text": [
      "4\n",
      "9\n",
      "2\n",
      "7\n",
      "6\n"
     ]
    }
   ],
   "source": [
    "smol_hex = \"49276\"\n",
    "def hex_string_to_int(hex_string):\n",
    "    hex_to_decimal_map = \"0123456789abcdef\"\n",
    "    assert len(hex_to_decimal_map) == 16\n",
    "    int_string = \"\"\n",
    "    for hex_digit in hex_string:\n",
    "        (hex_to_decimal_map.index(hex_digit))\n",
    "hex_to_decimal(smol_hex)"
   ]
  },
  {
   "cell_type": "code",
   "execution_count": null,
   "metadata": {},
   "outputs": [],
   "source": []
  }
 ],
 "metadata": {
  "kernelspec": {
   "display_name": "Python 3",
   "language": "python",
   "name": "python3"
  },
  "language_info": {
   "codemirror_mode": {
    "name": "ipython",
    "version": 3
   },
   "file_extension": ".py",
   "mimetype": "text/x-python",
   "name": "python",
   "nbconvert_exporter": "python",
   "pygments_lexer": "ipython3",
   "version": "3.9.6"
  }
 },
 "nbformat": 4,
 "nbformat_minor": 2
}
